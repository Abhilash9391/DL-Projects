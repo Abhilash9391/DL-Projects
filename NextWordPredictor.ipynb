{
  "nbformat": 4,
  "nbformat_minor": 0,
  "metadata": {
    "colab": {
      "provenance": [],
      "authorship_tag": "ABX9TyMDxnW3vlDF1+V5oJRo1spj",
      "include_colab_link": true
    },
    "kernelspec": {
      "name": "python3",
      "display_name": "Python 3"
    },
    "language_info": {
      "name": "python"
    }
  },
  "cells": [
    {
      "cell_type": "markdown",
      "metadata": {
        "id": "view-in-github",
        "colab_type": "text"
      },
      "source": [
        "<a href=\"https://colab.research.google.com/github/Abhilash9391/DL-Projects/blob/main/NextWordPredictor.ipynb\" target=\"_parent\"><img src=\"https://colab.research.google.com/assets/colab-badge.svg\" alt=\"Open In Colab\"/></a>"
      ]
    },
    {
      "cell_type": "code",
      "execution_count": 2,
      "metadata": {
        "id": "eMwagD5UhrQm"
      },
      "outputs": [],
      "source": [
        "para = \"\"\"The cat sat on the mat\n",
        "Dogs love to play in the park\n",
        "I am learning how to code in Python\n",
        "The sun rises in the east and sets in the west\n",
        "She enjoys reading books in her free time\n",
        "Birds are singing in the morning\n",
        "He is watching a movie at home\n",
        "The weather today is sunny and warm\n",
        "I like to drink coffee in the morning\n",
        "My favorite sport is football\n",
        "We went to the beach yesterday\n",
        "The children are playing in the garden\n",
        "He is cooking dinner for his family\n",
        "The train arrives at 7 PM\n",
        "She bought a new pair of shoes\n",
        "I like to listen to music while studying\n",
        "The baby is sleeping peacefully\n",
        "They are planning a trip to Europe\n",
        "I saw a rainbow after the rain\n",
        "He enjoys painting landscapes\n",
        "The dog barked loudly at the stranger\n",
        "She is learning to play the guitar\n",
        "I need to finish my homework today\n",
        "The flowers in the garden are blooming\n",
        "He is reading a newspaper in the park\n",
        "I like to eat ice cream in the evening\n",
        "The birds flew across the sky\n",
        "She is practicing yoga every morning\n",
        "He bought a new laptop for work\n",
        "The kids are running around the playground\n",
        "I enjoy walking in the forest\n",
        "He is fixing the broken chair\n",
        "The cake smells delicious\n",
        "I am writing a letter to my friend\n",
        "She is swimming in the pool\n",
        "The sun is shining brightly today\n",
        "He likes to play chess on weekends\n",
        "I went shopping yesterday\n",
        "The river is flowing fast after the rain\n",
        "She is baking cookies for the party\n",
        "I like to watch the sunset\n",
        "The dog is chasing a butterfly\n",
        "He is reading a book about history\n",
        "I need to buy some groceries\n",
        "She is drawing a beautiful picture\n",
        "We went hiking in the mountains\n",
        "He is practicing the piano\n",
        "I enjoy cycling in the park\n",
        "The flowers smell wonderful\n",
        "She is feeding the birds in the garden\n",
        "I like to watch movies at night\n",
        "He is learning a new language\n",
        "The wind is blowing strongly today\n",
        "I am painting my room\n",
        "She is planting trees in the backyard\n",
        "He is writing a poem\n",
        "I like to drink tea in the morning\n",
        "The baby is crawling on the floor\n",
        "She is singing a song\n",
        "He is playing football with friends\n",
        "I enjoy reading novels\n",
        "The stars are shining brightly tonight\n",
        "She is knitting a sweater\n",
        "He is cleaning his room\n",
        "I like to eat fruits every day\n",
        "The cat is chasing a mouse\n",
        "She is organizing her desk\n",
        "He is jogging in the park\n",
        "I enjoy listening to podcasts\n",
        "The sky is turning orange during sunset\n",
        "She is writing in her diary\n",
        "He is fixing his bicycle\n",
        "I like to watch birds in the morning\n",
        "The children are painting pictures\n",
        "She is learning to dance\n",
        "He is repairing his car\n",
        "I enjoy cooking new recipes\n",
        "The dog is sleeping under the tree\n",
        "She is watering the plants\n",
        "He is reading a novel\n",
        "I like to play video games\n",
        "The sun is setting behind the hills\n",
        "She is drawing sketches in her notebook\n",
        "He is practicing martial arts\n",
        "I enjoy walking along the river\n",
        "The flowers are attracting bees\n",
        "She is learning to play the violin\n",
        "He is writing a short story\n",
        "I like to meditate in the morning\n",
        "The birds are building a nest\n",
        "She is baking a cake\n",
        "He is studying for his exams\n",
        "I enjoy swimming in the lake\n",
        "The cat is sleeping on the sofa\n",
        "She is cleaning the windows\n",
        "He is playing the guitar\n",
        "I like to watch documentaries\n",
        "The sun is rising over the mountains\n",
        "She is knitting a scarf\n",
        "He is learning to cook new dishes\n",
        "I enjoy reading poetry\n",
        "The children are playing hide and seek\n",
        "She is painting a landscape\n",
        "He is jogging along the beach\n",
        "I like to write stories in my notebook\n",
        "The dog is running in the yard\n",
        "I usually take the stairs instead of the elevator\n",
        "He forgot to set his alarm clock last night\n",
        "She is folding the laundry while watching the news\n",
        "The family is having a barbecue on the patio\n",
        "I prefer writing with a fountain pen\n",
        "The microwave beeped when the food was ready\n",
        "He is polishing his silver silverware for the party\n",
        "My grandmother tells wonderful stories about her childhood\n",
        "She uses an old film camera for her art projects\n",
        "We are scheduling a video call with our colleagues\n",
        "Heavy fog settled over the city at midnight\n",
        "The spider spun a large web between two branches\n",
        "A gentle breeze rustled the autumn leaves\n",
        "The tide is slowly going out, revealing the sand\n",
        "Lightning flashed across the dark sky during the storm\n",
        "The moon looks full and bright tonight\n",
        "Small fish were swimming near the edge of the dock\n",
        "Dewdrops sparkled on the grass early this morning\n",
        "I saw a hawk circling high above the fields\n",
        "The temperature dropped sharply after sundown\n",
        "She is researching the history of Roman architecture\n",
        "He decided to enroll in an evening ceramics class\n",
        "I need to memorize a complex chemical formula\n",
        "They are analyzing data for their science project\n",
        "The professor explained the theory of relativity clearly\n",
        "I am learning the basic principles of financial accounting\n",
        "She is practicing advanced techniques in digital sculpting\n",
        "He is trying to improve his typing speed on the keyboard\n",
        "We are debugging a complicated software program\n",
        "I reviewed the lecture notes before the quiz\n",
        "The taxi arrived exactly on time to take us to the airport\n",
        "I returned the overdue library books this afternoon\n",
        "She is packing a suitcase for a business trip\n",
        "He stopped at the bank to deposit a check\n",
        "We need to refuel the car before the long drive\n",
        "The ferry is crossing the bay every hour\n",
        "I picked up a prescription from the pharmacy\n",
        "They purchased tickets for the museum exhibition\n",
        "She is mailing a postcard from her vacation spot\n",
        "I must renew my passport before next month's journey\"\"\""
      ]
    },
    {
      "cell_type": "code",
      "source": [
        "import tensorflow as tf\n",
        "from tensorflow.keras.preprocessing.text import Tokenizer"
      ],
      "metadata": {
        "id": "5P9xpjpGipFa"
      },
      "execution_count": 3,
      "outputs": []
    },
    {
      "cell_type": "code",
      "source": [
        "tokenizer = Tokenizer()"
      ],
      "metadata": {
        "id": "3CmzRQuCjEJT"
      },
      "execution_count": 4,
      "outputs": []
    },
    {
      "cell_type": "code",
      "source": [
        "tokenizer.fit_on_texts([para])"
      ],
      "metadata": {
        "id": "H9kxpMVFjGrX"
      },
      "execution_count": 10,
      "outputs": []
    },
    {
      "cell_type": "code",
      "source": [
        "tokenizer.word_index"
      ],
      "metadata": {
        "colab": {
          "base_uri": "https://localhost:8080/"
        },
        "id": "gD9bW4FOGLee",
        "outputId": "7d792586-7477-47c5-95d5-60bd03170ff4"
      },
      "execution_count": 11,
      "outputs": [
        {
          "output_type": "execute_result",
          "data": {
            "text/plain": [
              "{'e': 1,\n",
              " 'i': 2,\n",
              " 't': 3,\n",
              " 'a': 4,\n",
              " 'n': 5,\n",
              " 's': 6,\n",
              " 'r': 7,\n",
              " 'h': 8,\n",
              " 'o': 9,\n",
              " 'g': 10,\n",
              " 'l': 11,\n",
              " 'd': 12,\n",
              " 'c': 13,\n",
              " 'the': 14,\n",
              " 'p': 15,\n",
              " 'y': 16,\n",
              " 'm': 17,\n",
              " 'u': 18,\n",
              " 'w': 19,\n",
              " 'f': 20,\n",
              " 'k': 21,\n",
              " 'is': 22,\n",
              " 'b': 23,\n",
              " 'v': 24,\n",
              " 'to': 25,\n",
              " 'in': 26,\n",
              " 'he': 27,\n",
              " 'she': 28,\n",
              " 'j': 29,\n",
              " 'are': 30,\n",
              " 'like': 31,\n",
              " 'x': 32,\n",
              " 'for': 33,\n",
              " 'on': 34,\n",
              " 'his': 35,\n",
              " 'enjoy': 36,\n",
              " 'learning': 37,\n",
              " 'her': 38,\n",
              " 'morning': 39,\n",
              " 'my': 40,\n",
              " 'reading': 41,\n",
              " 'at': 42,\n",
              " 'of': 43,\n",
              " 'z': 44,\n",
              " 'play': 45,\n",
              " 'birds': 46,\n",
              " 'we': 47,\n",
              " 'new': 48,\n",
              " 'writing': 49,\n",
              " 'park': 50,\n",
              " 'am': 51,\n",
              " 'sun': 52,\n",
              " 'and': 53,\n",
              " 'today': 54,\n",
              " 'playing': 55,\n",
              " 'painting': 56,\n",
              " 'dog': 57,\n",
              " 'need': 58,\n",
              " 'practicing': 59,\n",
              " 'watch': 60,\n",
              " 'cat': 61,\n",
              " 'went': 62,\n",
              " 'children': 63,\n",
              " 'garden': 64,\n",
              " 'sleeping': 65,\n",
              " 'they': 66,\n",
              " 'after': 67,\n",
              " 'flowers': 68,\n",
              " 'sky': 69,\n",
              " 'every': 70,\n",
              " 'swimming': 71,\n",
              " 'with': 72,\n",
              " 'before': 73,\n",
              " '7': 74,\n",
              " 'q': 75,\n",
              " 'enjoys': 76,\n",
              " 'books': 77,\n",
              " 'time': 78,\n",
              " 'singing': 79,\n",
              " 'watching': 80,\n",
              " 'drink': 81,\n",
              " 'football': 82,\n",
              " 'beach': 83,\n",
              " 'yesterday': 84,\n",
              " 'cooking': 85,\n",
              " 'family': 86,\n",
              " 'bought': 87,\n",
              " 'while': 88,\n",
              " 'studying': 89,\n",
              " 'baby': 90,\n",
              " 'trip': 91,\n",
              " 'saw': 92,\n",
              " 'rain': 93,\n",
              " 'guitar': 94,\n",
              " 'eat': 95,\n",
              " 'evening': 96,\n",
              " 'across': 97,\n",
              " 'running': 98,\n",
              " 'walking': 99,\n",
              " 'fixing': 100,\n",
              " 'cake': 101,\n",
              " 'shining': 102,\n",
              " 'brightly': 103,\n",
              " 'river': 104,\n",
              " 'baking': 105,\n",
              " 'party': 106,\n",
              " 'sunset': 107,\n",
              " 'chasing': 108,\n",
              " 'about': 109,\n",
              " 'history': 110,\n",
              " 'drawing': 111,\n",
              " 'mountains': 112,\n",
              " 'wonderful': 113,\n",
              " 'night': 114,\n",
              " 'room': 115,\n",
              " 'tonight': 116,\n",
              " 'knitting': 117,\n",
              " 'cleaning': 118,\n",
              " 'jogging': 119,\n",
              " 'during': 120,\n",
              " 'car': 121,\n",
              " 'video': 122,\n",
              " 'notebook': 123,\n",
              " 'along': 124,\n",
              " 'over': 125,\n",
              " 'stories': 126,\n",
              " 'take': 127,\n",
              " 'an': 128,\n",
              " 'this': 129,\n",
              " 'from': 130,\n",
              " \"'\": 131,\n",
              " 'sat': 132,\n",
              " 'mat': 133,\n",
              " 'dogs': 134,\n",
              " 'love': 135,\n",
              " 'how': 136,\n",
              " 'code': 137,\n",
              " 'python': 138,\n",
              " 'rises': 139,\n",
              " 'east': 140,\n",
              " 'sets': 141,\n",
              " 'west': 142,\n",
              " 'free': 143,\n",
              " 'movie': 144,\n",
              " 'home': 145,\n",
              " 'weather': 146,\n",
              " 'sunny': 147,\n",
              " 'warm': 148,\n",
              " 'coffee': 149,\n",
              " 'favorite': 150,\n",
              " 'sport': 151,\n",
              " 'dinner': 152,\n",
              " 'train': 153,\n",
              " 'arrives': 154,\n",
              " 'pm': 155,\n",
              " 'pair': 156,\n",
              " 'shoes': 157,\n",
              " 'listen': 158,\n",
              " 'music': 159,\n",
              " 'peacefully': 160,\n",
              " 'planning': 161,\n",
              " 'europe': 162,\n",
              " 'rainbow': 163,\n",
              " 'landscapes': 164,\n",
              " 'barked': 165,\n",
              " 'loudly': 166,\n",
              " 'stranger': 167,\n",
              " 'finish': 168,\n",
              " 'homework': 169,\n",
              " 'blooming': 170,\n",
              " 'newspaper': 171,\n",
              " 'ice': 172,\n",
              " 'cream': 173,\n",
              " 'flew': 174,\n",
              " 'yoga': 175,\n",
              " 'laptop': 176,\n",
              " 'work': 177,\n",
              " 'kids': 178,\n",
              " 'around': 179,\n",
              " 'playground': 180,\n",
              " 'forest': 181,\n",
              " 'broken': 182,\n",
              " 'chair': 183,\n",
              " 'smells': 184,\n",
              " 'delicious': 185,\n",
              " 'letter': 186,\n",
              " 'friend': 187,\n",
              " 'pool': 188,\n",
              " 'likes': 189,\n",
              " 'chess': 190,\n",
              " 'weekends': 191,\n",
              " 'shopping': 192,\n",
              " 'flowing': 193,\n",
              " 'fast': 194,\n",
              " 'cookies': 195,\n",
              " 'butterfly': 196,\n",
              " 'book': 197,\n",
              " 'buy': 198,\n",
              " 'some': 199,\n",
              " 'groceries': 200,\n",
              " 'beautiful': 201,\n",
              " 'picture': 202,\n",
              " 'hiking': 203,\n",
              " 'piano': 204,\n",
              " 'cycling': 205,\n",
              " 'smell': 206,\n",
              " 'feeding': 207,\n",
              " 'movies': 208,\n",
              " 'language': 209,\n",
              " 'wind': 210,\n",
              " 'blowing': 211,\n",
              " 'strongly': 212,\n",
              " 'planting': 213,\n",
              " 'trees': 214,\n",
              " 'backyard': 215,\n",
              " 'poem': 216,\n",
              " 'tea': 217,\n",
              " 'crawling': 218,\n",
              " 'floor': 219,\n",
              " 'song': 220,\n",
              " 'friends': 221,\n",
              " 'novels': 222,\n",
              " 'stars': 223,\n",
              " 'sweater': 224,\n",
              " 'fruits': 225,\n",
              " 'day': 226,\n",
              " 'mouse': 227,\n",
              " 'organizing': 228,\n",
              " 'desk': 229,\n",
              " 'listening': 230,\n",
              " 'podcasts': 231,\n",
              " 'turning': 232,\n",
              " 'orange': 233,\n",
              " 'diary': 234,\n",
              " 'bicycle': 235,\n",
              " 'pictures': 236,\n",
              " 'dance': 237,\n",
              " 'repairing': 238,\n",
              " 'recipes': 239,\n",
              " 'under': 240,\n",
              " 'tree': 241,\n",
              " 'watering': 242,\n",
              " 'plants': 243,\n",
              " 'novel': 244,\n",
              " 'games': 245,\n",
              " 'setting': 246,\n",
              " 'behind': 247,\n",
              " 'hills': 248,\n",
              " 'sketches': 249,\n",
              " 'martial': 250,\n",
              " 'arts': 251,\n",
              " 'attracting': 252,\n",
              " 'bees': 253,\n",
              " 'violin': 254,\n",
              " 'short': 255,\n",
              " 'story': 256,\n",
              " 'meditate': 257,\n",
              " 'building': 258,\n",
              " 'nest': 259,\n",
              " 'exams': 260,\n",
              " 'lake': 261,\n",
              " 'sofa': 262,\n",
              " 'windows': 263,\n",
              " 'documentaries': 264,\n",
              " 'rising': 265,\n",
              " 'scarf': 266,\n",
              " 'cook': 267,\n",
              " 'dishes': 268,\n",
              " 'poetry': 269,\n",
              " 'hide': 270,\n",
              " 'seek': 271,\n",
              " 'landscape': 272,\n",
              " 'write': 273,\n",
              " 'yard': 274,\n",
              " 'usually': 275,\n",
              " 'stairs': 276,\n",
              " 'instead': 277,\n",
              " 'elevator': 278,\n",
              " 'forgot': 279,\n",
              " 'set': 280,\n",
              " 'alarm': 281,\n",
              " 'clock': 282,\n",
              " 'last': 283,\n",
              " 'folding': 284,\n",
              " 'laundry': 285,\n",
              " 'news': 286,\n",
              " 'having': 287,\n",
              " 'barbecue': 288,\n",
              " 'patio': 289,\n",
              " 'prefer': 290,\n",
              " 'fountain': 291,\n",
              " 'pen': 292,\n",
              " 'microwave': 293,\n",
              " 'beeped': 294,\n",
              " 'when': 295,\n",
              " 'food': 296,\n",
              " 'was': 297,\n",
              " 'ready': 298,\n",
              " 'polishing': 299,\n",
              " 'silver': 300,\n",
              " 'silverware': 301,\n",
              " 'grandmother': 302,\n",
              " 'tells': 303,\n",
              " 'childhood': 304,\n",
              " 'uses': 305,\n",
              " 'old': 306,\n",
              " 'film': 307,\n",
              " 'camera': 308,\n",
              " 'art': 309,\n",
              " 'projects': 310,\n",
              " 'scheduling': 311,\n",
              " 'call': 312,\n",
              " 'our': 313,\n",
              " 'colleagues': 314,\n",
              " 'heavy': 315,\n",
              " 'fog': 316,\n",
              " 'settled': 317,\n",
              " 'city': 318,\n",
              " 'midnight': 319,\n",
              " 'spider': 320,\n",
              " 'spun': 321,\n",
              " 'large': 322,\n",
              " 'web': 323,\n",
              " 'between': 324,\n",
              " 'two': 325,\n",
              " 'branches': 326,\n",
              " 'gentle': 327,\n",
              " 'breeze': 328,\n",
              " 'rustled': 329,\n",
              " 'autumn': 330,\n",
              " 'leaves': 331,\n",
              " 'tide': 332,\n",
              " 'slowly': 333,\n",
              " 'going': 334,\n",
              " 'out': 335,\n",
              " 'revealing': 336,\n",
              " 'sand': 337,\n",
              " 'lightning': 338,\n",
              " 'flashed': 339,\n",
              " 'dark': 340,\n",
              " 'storm': 341,\n",
              " 'moon': 342,\n",
              " 'looks': 343,\n",
              " 'full': 344,\n",
              " 'bright': 345,\n",
              " 'small': 346,\n",
              " 'fish': 347,\n",
              " 'were': 348,\n",
              " 'near': 349,\n",
              " 'edge': 350,\n",
              " 'dock': 351,\n",
              " 'dewdrops': 352,\n",
              " 'sparkled': 353,\n",
              " 'grass': 354,\n",
              " 'early': 355,\n",
              " 'hawk': 356,\n",
              " 'circling': 357,\n",
              " 'high': 358,\n",
              " 'above': 359,\n",
              " 'fields': 360,\n",
              " 'temperature': 361,\n",
              " 'dropped': 362,\n",
              " 'sharply': 363,\n",
              " 'sundown': 364,\n",
              " 'researching': 365,\n",
              " 'roman': 366,\n",
              " 'architecture': 367,\n",
              " 'decided': 368,\n",
              " 'enroll': 369,\n",
              " 'ceramics': 370,\n",
              " 'class': 371,\n",
              " 'memorize': 372,\n",
              " 'complex': 373,\n",
              " 'chemical': 374,\n",
              " 'formula': 375,\n",
              " 'analyzing': 376,\n",
              " 'data': 377,\n",
              " 'their': 378,\n",
              " 'science': 379,\n",
              " 'project': 380,\n",
              " 'professor': 381,\n",
              " 'explained': 382,\n",
              " 'theory': 383,\n",
              " 'relativity': 384,\n",
              " 'clearly': 385,\n",
              " 'basic': 386,\n",
              " 'principles': 387,\n",
              " 'financial': 388,\n",
              " 'accounting': 389,\n",
              " 'advanced': 390,\n",
              " 'techniques': 391,\n",
              " 'digital': 392,\n",
              " 'sculpting': 393,\n",
              " 'trying': 394,\n",
              " 'improve': 395,\n",
              " 'typing': 396,\n",
              " 'speed': 397,\n",
              " 'keyboard': 398,\n",
              " 'debugging': 399,\n",
              " 'complicated': 400,\n",
              " 'software': 401,\n",
              " 'program': 402,\n",
              " 'reviewed': 403,\n",
              " 'lecture': 404,\n",
              " 'notes': 405,\n",
              " 'quiz': 406,\n",
              " 'taxi': 407,\n",
              " 'arrived': 408,\n",
              " 'exactly': 409,\n",
              " 'us': 410,\n",
              " 'airport': 411,\n",
              " 'returned': 412,\n",
              " 'overdue': 413,\n",
              " 'library': 414,\n",
              " 'afternoon': 415,\n",
              " 'packing': 416,\n",
              " 'suitcase': 417,\n",
              " 'business': 418,\n",
              " 'stopped': 419,\n",
              " 'bank': 420,\n",
              " 'deposit': 421,\n",
              " 'check': 422,\n",
              " 'refuel': 423,\n",
              " 'long': 424,\n",
              " 'drive': 425,\n",
              " 'ferry': 426,\n",
              " 'crossing': 427,\n",
              " 'bay': 428,\n",
              " 'hour': 429,\n",
              " 'picked': 430,\n",
              " 'up': 431,\n",
              " 'prescription': 432,\n",
              " 'pharmacy': 433,\n",
              " 'purchased': 434,\n",
              " 'tickets': 435,\n",
              " 'museum': 436,\n",
              " 'exhibition': 437,\n",
              " 'mailing': 438,\n",
              " 'postcard': 439,\n",
              " 'vacation': 440,\n",
              " 'spot': 441,\n",
              " 'must': 442,\n",
              " 'renew': 443,\n",
              " 'passport': 444,\n",
              " 'next': 445,\n",
              " \"month's\": 446,\n",
              " 'journey': 447}"
            ]
          },
          "metadata": {},
          "execution_count": 11
        }
      ]
    },
    {
      "cell_type": "code",
      "source": [
        "total_tokens= len(tokenizer.word_index)"
      ],
      "metadata": {
        "id": "VjdXHPQMjR0o"
      },
      "execution_count": 12,
      "outputs": []
    },
    {
      "cell_type": "code",
      "source": [
        "total_tokens"
      ],
      "metadata": {
        "colab": {
          "base_uri": "https://localhost:8080/"
        },
        "id": "7qeVp7keE9Kh",
        "outputId": "7a836e28-565e-4f83-a2f5-68771d799ffe"
      },
      "execution_count": 13,
      "outputs": [
        {
          "output_type": "execute_result",
          "data": {
            "text/plain": [
              "447"
            ]
          },
          "metadata": {},
          "execution_count": 13
        }
      ]
    },
    {
      "cell_type": "code",
      "source": [
        "para.split('\\n')"
      ],
      "metadata": {
        "colab": {
          "base_uri": "https://localhost:8080/"
        },
        "id": "h_I3WMxjkDVH",
        "outputId": "36bea1d1-af5e-45a3-9a5c-aa859d0b3d02"
      },
      "execution_count": 14,
      "outputs": [
        {
          "output_type": "execute_result",
          "data": {
            "text/plain": [
              "['The cat sat on the mat',\n",
              " 'Dogs love to play in the park',\n",
              " 'I am learning how to code in Python',\n",
              " 'The sun rises in the east and sets in the west',\n",
              " 'She enjoys reading books in her free time',\n",
              " 'Birds are singing in the morning',\n",
              " 'He is watching a movie at home',\n",
              " 'The weather today is sunny and warm',\n",
              " 'I like to drink coffee in the morning',\n",
              " 'My favorite sport is football',\n",
              " 'We went to the beach yesterday',\n",
              " 'The children are playing in the garden',\n",
              " 'He is cooking dinner for his family',\n",
              " 'The train arrives at 7 PM',\n",
              " 'She bought a new pair of shoes',\n",
              " 'I like to listen to music while studying',\n",
              " 'The baby is sleeping peacefully',\n",
              " 'They are planning a trip to Europe',\n",
              " 'I saw a rainbow after the rain',\n",
              " 'He enjoys painting landscapes',\n",
              " 'The dog barked loudly at the stranger',\n",
              " 'She is learning to play the guitar',\n",
              " 'I need to finish my homework today',\n",
              " 'The flowers in the garden are blooming',\n",
              " 'He is reading a newspaper in the park',\n",
              " 'I like to eat ice cream in the evening',\n",
              " 'The birds flew across the sky',\n",
              " 'She is practicing yoga every morning',\n",
              " 'He bought a new laptop for work',\n",
              " 'The kids are running around the playground',\n",
              " 'I enjoy walking in the forest',\n",
              " 'He is fixing the broken chair',\n",
              " 'The cake smells delicious',\n",
              " 'I am writing a letter to my friend',\n",
              " 'She is swimming in the pool',\n",
              " 'The sun is shining brightly today',\n",
              " 'He likes to play chess on weekends',\n",
              " 'I went shopping yesterday',\n",
              " 'The river is flowing fast after the rain',\n",
              " 'She is baking cookies for the party',\n",
              " 'I like to watch the sunset',\n",
              " 'The dog is chasing a butterfly',\n",
              " 'He is reading a book about history',\n",
              " 'I need to buy some groceries',\n",
              " 'She is drawing a beautiful picture',\n",
              " 'We went hiking in the mountains',\n",
              " 'He is practicing the piano',\n",
              " 'I enjoy cycling in the park',\n",
              " 'The flowers smell wonderful',\n",
              " 'She is feeding the birds in the garden',\n",
              " 'I like to watch movies at night',\n",
              " 'He is learning a new language',\n",
              " 'The wind is blowing strongly today',\n",
              " 'I am painting my room',\n",
              " 'She is planting trees in the backyard',\n",
              " 'He is writing a poem',\n",
              " 'I like to drink tea in the morning',\n",
              " 'The baby is crawling on the floor',\n",
              " 'She is singing a song',\n",
              " 'He is playing football with friends',\n",
              " 'I enjoy reading novels',\n",
              " 'The stars are shining brightly tonight',\n",
              " 'She is knitting a sweater',\n",
              " 'He is cleaning his room',\n",
              " 'I like to eat fruits every day',\n",
              " 'The cat is chasing a mouse',\n",
              " 'She is organizing her desk',\n",
              " 'He is jogging in the park',\n",
              " 'I enjoy listening to podcasts',\n",
              " 'The sky is turning orange during sunset',\n",
              " 'She is writing in her diary',\n",
              " 'He is fixing his bicycle',\n",
              " 'I like to watch birds in the morning',\n",
              " 'The children are painting pictures',\n",
              " 'She is learning to dance',\n",
              " 'He is repairing his car',\n",
              " 'I enjoy cooking new recipes',\n",
              " 'The dog is sleeping under the tree',\n",
              " 'She is watering the plants',\n",
              " 'He is reading a novel',\n",
              " 'I like to play video games',\n",
              " 'The sun is setting behind the hills',\n",
              " 'She is drawing sketches in her notebook',\n",
              " 'He is practicing martial arts',\n",
              " 'I enjoy walking along the river',\n",
              " 'The flowers are attracting bees',\n",
              " 'She is learning to play the violin',\n",
              " 'He is writing a short story',\n",
              " 'I like to meditate in the morning',\n",
              " 'The birds are building a nest',\n",
              " 'She is baking a cake',\n",
              " 'He is studying for his exams',\n",
              " 'I enjoy swimming in the lake',\n",
              " 'The cat is sleeping on the sofa',\n",
              " 'She is cleaning the windows',\n",
              " 'He is playing the guitar',\n",
              " 'I like to watch documentaries',\n",
              " 'The sun is rising over the mountains',\n",
              " 'She is knitting a scarf',\n",
              " 'He is learning to cook new dishes',\n",
              " 'I enjoy reading poetry',\n",
              " 'The children are playing hide and seek',\n",
              " 'She is painting a landscape',\n",
              " 'He is jogging along the beach',\n",
              " 'I like to write stories in my notebook',\n",
              " 'The dog is running in the yard',\n",
              " 'I usually take the stairs instead of the elevator',\n",
              " 'He forgot to set his alarm clock last night',\n",
              " 'She is folding the laundry while watching the news',\n",
              " 'The family is having a barbecue on the patio',\n",
              " 'I prefer writing with a fountain pen',\n",
              " 'The microwave beeped when the food was ready',\n",
              " 'He is polishing his silver silverware for the party',\n",
              " 'My grandmother tells wonderful stories about her childhood',\n",
              " 'She uses an old film camera for her art projects',\n",
              " 'We are scheduling a video call with our colleagues',\n",
              " 'Heavy fog settled over the city at midnight',\n",
              " 'The spider spun a large web between two branches',\n",
              " 'A gentle breeze rustled the autumn leaves',\n",
              " 'The tide is slowly going out, revealing the sand',\n",
              " 'Lightning flashed across the dark sky during the storm',\n",
              " 'The moon looks full and bright tonight',\n",
              " 'Small fish were swimming near the edge of the dock',\n",
              " 'Dewdrops sparkled on the grass early this morning',\n",
              " 'I saw a hawk circling high above the fields',\n",
              " 'The temperature dropped sharply after sundown',\n",
              " 'She is researching the history of Roman architecture',\n",
              " 'He decided to enroll in an evening ceramics class',\n",
              " 'I need to memorize a complex chemical formula',\n",
              " 'They are analyzing data for their science project',\n",
              " 'The professor explained the theory of relativity clearly',\n",
              " 'I am learning the basic principles of financial accounting',\n",
              " 'She is practicing advanced techniques in digital sculpting',\n",
              " 'He is trying to improve his typing speed on the keyboard',\n",
              " 'We are debugging a complicated software program',\n",
              " 'I reviewed the lecture notes before the quiz',\n",
              " 'The taxi arrived exactly on time to take us to the airport',\n",
              " 'I returned the overdue library books this afternoon',\n",
              " 'She is packing a suitcase for a business trip',\n",
              " 'He stopped at the bank to deposit a check',\n",
              " 'We need to refuel the car before the long drive',\n",
              " 'The ferry is crossing the bay every hour',\n",
              " 'I picked up a prescription from the pharmacy',\n",
              " 'They purchased tickets for the museum exhibition',\n",
              " 'She is mailing a postcard from her vacation spot',\n",
              " \"I must renew my passport before next month's journey\"]"
            ]
          },
          "metadata": {},
          "execution_count": 14
        }
      ]
    },
    {
      "cell_type": "code",
      "source": [
        "input_sequences = []\n",
        "\n",
        "for sentence in para.split('\\n'):\n",
        "  tokenized_sentence = tokenizer.texts_to_sequences([sentence])[0]\n",
        "\n",
        "  for i in range(1,len(tokenized_sentence)):\n",
        "    input_sequences.append(tokenized_sentence[:i+1])\n",
        "\n",
        "\n",
        ""
      ],
      "metadata": {
        "id": "BlJ0l9o3jYiO"
      },
      "execution_count": 15,
      "outputs": []
    },
    {
      "cell_type": "code",
      "source": [
        "max_len = max(len(x) for x in input_sequences)"
      ],
      "metadata": {
        "id": "GfmRBjzHkuny"
      },
      "execution_count": 16,
      "outputs": []
    },
    {
      "cell_type": "code",
      "source": [
        "max_len"
      ],
      "metadata": {
        "colab": {
          "base_uri": "https://localhost:8080/"
        },
        "id": "kfgYJUpHEr4l",
        "outputId": "71bdc818-d52b-4a39-9e36-cc3d22ab8d60"
      },
      "execution_count": 17,
      "outputs": [
        {
          "output_type": "execute_result",
          "data": {
            "text/plain": [
              "12"
            ]
          },
          "metadata": {},
          "execution_count": 17
        }
      ]
    },
    {
      "cell_type": "code",
      "source": [
        "from tensorflow.keras.preprocessing.sequence import pad_sequences\n",
        "padded_input_sequences = pad_sequences(input_sequences,max_len,padding='pre',value=0)"
      ],
      "metadata": {
        "id": "JAh52YAanGfp"
      },
      "execution_count": 18,
      "outputs": []
    },
    {
      "cell_type": "code",
      "source": [
        "padded_input_sequences"
      ],
      "metadata": {
        "colab": {
          "base_uri": "https://localhost:8080/"
        },
        "id": "BArPkDy5ncX3",
        "outputId": "dd6e4e13-57f5-46c2-b053-ddba8589650e"
      },
      "execution_count": 19,
      "outputs": [
        {
          "output_type": "execute_result",
          "data": {
            "text/plain": [
              "array([[  0,   0,   0, ...,   0,  14,  61],\n",
              "       [  0,   0,   0, ...,  14,  61, 132],\n",
              "       [  0,   0,   0, ...,  61, 132,  34],\n",
              "       ...,\n",
              "       [  0,   0,   0, ..., 444,  73, 445],\n",
              "       [  0,   0,   0, ...,  73, 445, 446],\n",
              "       [  0,   0,   0, ..., 445, 446, 447]], dtype=int32)"
            ]
          },
          "metadata": {},
          "execution_count": 19
        }
      ]
    },
    {
      "cell_type": "code",
      "source": [
        "X = padded_input_sequences[:,:-1]\n",
        "Y = padded_input_sequences[:,-1]"
      ],
      "metadata": {
        "id": "OTxsxYYDoIed"
      },
      "execution_count": 20,
      "outputs": []
    },
    {
      "cell_type": "code",
      "source": [
        "X.shape"
      ],
      "metadata": {
        "colab": {
          "base_uri": "https://localhost:8080/"
        },
        "id": "6dyUsGZ0og5R",
        "outputId": "125ad5cf-d376-4024-8a44-bbf0ada8855a"
      },
      "execution_count": 21,
      "outputs": [
        {
          "output_type": "execute_result",
          "data": {
            "text/plain": [
              "(857, 11)"
            ]
          },
          "metadata": {},
          "execution_count": 21
        }
      ]
    },
    {
      "cell_type": "code",
      "source": [
        "Y.shape"
      ],
      "metadata": {
        "colab": {
          "base_uri": "https://localhost:8080/"
        },
        "id": "km1f4ckeohXn",
        "outputId": "a2d2575c-2d2a-49c2-9665-4cb9fc4d60a5"
      },
      "execution_count": 22,
      "outputs": [
        {
          "output_type": "execute_result",
          "data": {
            "text/plain": [
              "(857,)"
            ]
          },
          "metadata": {},
          "execution_count": 22
        }
      ]
    },
    {
      "cell_type": "code",
      "source": [
        "from tensorflow.keras.utils import to_categorical\n",
        "Y = to_categorical(Y,num_classes=total_tokens+1)"
      ],
      "metadata": {
        "id": "NF35e3MToipi"
      },
      "execution_count": 23,
      "outputs": []
    },
    {
      "cell_type": "code",
      "source": [
        "Y.shape"
      ],
      "metadata": {
        "colab": {
          "base_uri": "https://localhost:8080/"
        },
        "id": "TPyjE0JUtAQj",
        "outputId": "4644cf6c-be87-4d19-bc60-a57168ee4610"
      },
      "execution_count": 24,
      "outputs": [
        {
          "output_type": "execute_result",
          "data": {
            "text/plain": [
              "(857, 448)"
            ]
          },
          "metadata": {},
          "execution_count": 24
        }
      ]
    },
    {
      "cell_type": "code",
      "source": [
        "from tensorflow.keras.models import Sequential\n",
        "from tensorflow.keras.layers import Embedding,LSTM,Dense"
      ],
      "metadata": {
        "id": "f_GL4DH4vUbZ"
      },
      "execution_count": 25,
      "outputs": []
    },
    {
      "cell_type": "code",
      "source": [
        "model = Sequential()\n",
        "model.add(Embedding(total_tokens+1,100,input_length=10))\n",
        "model.add(LSTM(150))\n",
        "\n",
        "model.add(Dense(total_tokens+1,activation='softmax'))"
      ],
      "metadata": {
        "colab": {
          "base_uri": "https://localhost:8080/"
        },
        "id": "htWaiyzZvjlB",
        "outputId": "cee975a6-b7ff-46e2-f694-3233db9981cf"
      },
      "execution_count": 26,
      "outputs": [
        {
          "output_type": "stream",
          "name": "stderr",
          "text": [
            "/usr/local/lib/python3.12/dist-packages/keras/src/layers/core/embedding.py:97: UserWarning: Argument `input_length` is deprecated. Just remove it.\n",
            "  warnings.warn(\n"
          ]
        }
      ]
    },
    {
      "cell_type": "code",
      "source": [
        "model.compile(\n",
        "    loss='categorical_crossentropy',\n",
        "    optimizer='adam',\n",
        "    metrics=['accuracy']\n",
        ")\n"
      ],
      "metadata": {
        "id": "PJIpKSt6w37h"
      },
      "execution_count": 27,
      "outputs": []
    },
    {
      "cell_type": "code",
      "source": [
        "model.summary()"
      ],
      "metadata": {
        "colab": {
          "base_uri": "https://localhost:8080/",
          "height": 248
        },
        "id": "ny-eNqQNxGdg",
        "outputId": "b823fb9d-39a3-480e-c297-2a2636708eb1"
      },
      "execution_count": 33,
      "outputs": [
        {
          "output_type": "display_data",
          "data": {
            "text/plain": [
              "\u001b[1mModel: \"sequential\"\u001b[0m\n"
            ],
            "text/html": [
              "<pre style=\"white-space:pre;overflow-x:auto;line-height:normal;font-family:Menlo,'DejaVu Sans Mono',consolas,'Courier New',monospace\"><span style=\"font-weight: bold\">Model: \"sequential\"</span>\n",
              "</pre>\n"
            ]
          },
          "metadata": {}
        },
        {
          "output_type": "display_data",
          "data": {
            "text/plain": [
              "┏━━━━━━━━━━━━━━━━━━━━━━━━━━━━━━━━━┳━━━━━━━━━━━━━━━━━━━━━━━━┳━━━━━━━━━━━━━━━┓\n",
              "┃\u001b[1m \u001b[0m\u001b[1mLayer (type)                   \u001b[0m\u001b[1m \u001b[0m┃\u001b[1m \u001b[0m\u001b[1mOutput Shape          \u001b[0m\u001b[1m \u001b[0m┃\u001b[1m \u001b[0m\u001b[1m      Param #\u001b[0m\u001b[1m \u001b[0m┃\n",
              "┡━━━━━━━━━━━━━━━━━━━━━━━━━━━━━━━━━╇━━━━━━━━━━━━━━━━━━━━━━━━╇━━━━━━━━━━━━━━━┩\n",
              "│ embedding (\u001b[38;5;33mEmbedding\u001b[0m)           │ (\u001b[38;5;45mNone\u001b[0m, \u001b[38;5;34m11\u001b[0m, \u001b[38;5;34m100\u001b[0m)        │        \u001b[38;5;34m44,800\u001b[0m │\n",
              "├─────────────────────────────────┼────────────────────────┼───────────────┤\n",
              "│ lstm (\u001b[38;5;33mLSTM\u001b[0m)                     │ (\u001b[38;5;45mNone\u001b[0m, \u001b[38;5;34m150\u001b[0m)            │       \u001b[38;5;34m150,600\u001b[0m │\n",
              "├─────────────────────────────────┼────────────────────────┼───────────────┤\n",
              "│ dense (\u001b[38;5;33mDense\u001b[0m)                   │ (\u001b[38;5;45mNone\u001b[0m, \u001b[38;5;34m448\u001b[0m)            │        \u001b[38;5;34m67,648\u001b[0m │\n",
              "└─────────────────────────────────┴────────────────────────┴───────────────┘\n"
            ],
            "text/html": [
              "<pre style=\"white-space:pre;overflow-x:auto;line-height:normal;font-family:Menlo,'DejaVu Sans Mono',consolas,'Courier New',monospace\">┏━━━━━━━━━━━━━━━━━━━━━━━━━━━━━━━━━┳━━━━━━━━━━━━━━━━━━━━━━━━┳━━━━━━━━━━━━━━━┓\n",
              "┃<span style=\"font-weight: bold\"> Layer (type)                    </span>┃<span style=\"font-weight: bold\"> Output Shape           </span>┃<span style=\"font-weight: bold\">       Param # </span>┃\n",
              "┡━━━━━━━━━━━━━━━━━━━━━━━━━━━━━━━━━╇━━━━━━━━━━━━━━━━━━━━━━━━╇━━━━━━━━━━━━━━━┩\n",
              "│ embedding (<span style=\"color: #0087ff; text-decoration-color: #0087ff\">Embedding</span>)           │ (<span style=\"color: #00d7ff; text-decoration-color: #00d7ff\">None</span>, <span style=\"color: #00af00; text-decoration-color: #00af00\">11</span>, <span style=\"color: #00af00; text-decoration-color: #00af00\">100</span>)        │        <span style=\"color: #00af00; text-decoration-color: #00af00\">44,800</span> │\n",
              "├─────────────────────────────────┼────────────────────────┼───────────────┤\n",
              "│ lstm (<span style=\"color: #0087ff; text-decoration-color: #0087ff\">LSTM</span>)                     │ (<span style=\"color: #00d7ff; text-decoration-color: #00d7ff\">None</span>, <span style=\"color: #00af00; text-decoration-color: #00af00\">150</span>)            │       <span style=\"color: #00af00; text-decoration-color: #00af00\">150,600</span> │\n",
              "├─────────────────────────────────┼────────────────────────┼───────────────┤\n",
              "│ dense (<span style=\"color: #0087ff; text-decoration-color: #0087ff\">Dense</span>)                   │ (<span style=\"color: #00d7ff; text-decoration-color: #00d7ff\">None</span>, <span style=\"color: #00af00; text-decoration-color: #00af00\">448</span>)            │        <span style=\"color: #00af00; text-decoration-color: #00af00\">67,648</span> │\n",
              "└─────────────────────────────────┴────────────────────────┴───────────────┘\n",
              "</pre>\n"
            ]
          },
          "metadata": {}
        },
        {
          "output_type": "display_data",
          "data": {
            "text/plain": [
              "\u001b[1m Total params: \u001b[0m\u001b[38;5;34m789,146\u001b[0m (3.01 MB)\n"
            ],
            "text/html": [
              "<pre style=\"white-space:pre;overflow-x:auto;line-height:normal;font-family:Menlo,'DejaVu Sans Mono',consolas,'Courier New',monospace\"><span style=\"font-weight: bold\"> Total params: </span><span style=\"color: #00af00; text-decoration-color: #00af00\">789,146</span> (3.01 MB)\n",
              "</pre>\n"
            ]
          },
          "metadata": {}
        },
        {
          "output_type": "display_data",
          "data": {
            "text/plain": [
              "\u001b[1m Trainable params: \u001b[0m\u001b[38;5;34m263,048\u001b[0m (1.00 MB)\n"
            ],
            "text/html": [
              "<pre style=\"white-space:pre;overflow-x:auto;line-height:normal;font-family:Menlo,'DejaVu Sans Mono',consolas,'Courier New',monospace\"><span style=\"font-weight: bold\"> Trainable params: </span><span style=\"color: #00af00; text-decoration-color: #00af00\">263,048</span> (1.00 MB)\n",
              "</pre>\n"
            ]
          },
          "metadata": {}
        },
        {
          "output_type": "display_data",
          "data": {
            "text/plain": [
              "\u001b[1m Non-trainable params: \u001b[0m\u001b[38;5;34m0\u001b[0m (0.00 B)\n"
            ],
            "text/html": [
              "<pre style=\"white-space:pre;overflow-x:auto;line-height:normal;font-family:Menlo,'DejaVu Sans Mono',consolas,'Courier New',monospace\"><span style=\"font-weight: bold\"> Non-trainable params: </span><span style=\"color: #00af00; text-decoration-color: #00af00\">0</span> (0.00 B)\n",
              "</pre>\n"
            ]
          },
          "metadata": {}
        },
        {
          "output_type": "display_data",
          "data": {
            "text/plain": [
              "\u001b[1m Optimizer params: \u001b[0m\u001b[38;5;34m526,098\u001b[0m (2.01 MB)\n"
            ],
            "text/html": [
              "<pre style=\"white-space:pre;overflow-x:auto;line-height:normal;font-family:Menlo,'DejaVu Sans Mono',consolas,'Courier New',monospace\"><span style=\"font-weight: bold\"> Optimizer params: </span><span style=\"color: #00af00; text-decoration-color: #00af00\">526,098</span> (2.01 MB)\n",
              "</pre>\n"
            ]
          },
          "metadata": {}
        }
      ]
    },
    {
      "cell_type": "code",
      "source": [
        "model.fit(X,Y,epochs=100)"
      ],
      "metadata": {
        "colab": {
          "base_uri": "https://localhost:8080/"
        },
        "collapsed": true,
        "id": "zf1ziy2cxH9w",
        "outputId": "c9666841-a418-4db9-d367-cab1c8b51244"
      },
      "execution_count": 29,
      "outputs": [
        {
          "output_type": "stream",
          "name": "stdout",
          "text": [
            "Epoch 1/100\n",
            "\u001b[1m27/27\u001b[0m \u001b[32m━━━━━━━━━━━━━━━━━━━━\u001b[0m\u001b[37m\u001b[0m \u001b[1m3s\u001b[0m 23ms/step - accuracy: 0.0545 - loss: 5.9997\n",
            "Epoch 2/100\n",
            "\u001b[1m27/27\u001b[0m \u001b[32m━━━━━━━━━━━━━━━━━━━━\u001b[0m\u001b[37m\u001b[0m \u001b[1m1s\u001b[0m 23ms/step - accuracy: 0.0996 - loss: 5.2652\n",
            "Epoch 3/100\n",
            "\u001b[1m27/27\u001b[0m \u001b[32m━━━━━━━━━━━━━━━━━━━━\u001b[0m\u001b[37m\u001b[0m \u001b[1m1s\u001b[0m 23ms/step - accuracy: 0.1177 - loss: 5.2061\n",
            "Epoch 4/100\n",
            "\u001b[1m27/27\u001b[0m \u001b[32m━━━━━━━━━━━━━━━━━━━━\u001b[0m\u001b[37m\u001b[0m \u001b[1m1s\u001b[0m 23ms/step - accuracy: 0.1519 - loss: 4.9181\n",
            "Epoch 5/100\n",
            "\u001b[1m27/27\u001b[0m \u001b[32m━━━━━━━━━━━━━━━━━━━━\u001b[0m\u001b[37m\u001b[0m \u001b[1m1s\u001b[0m 24ms/step - accuracy: 0.1789 - loss: 4.7706\n",
            "Epoch 6/100\n",
            "\u001b[1m27/27\u001b[0m \u001b[32m━━━━━━━━━━━━━━━━━━━━\u001b[0m\u001b[37m\u001b[0m \u001b[1m2s\u001b[0m 46ms/step - accuracy: 0.1395 - loss: 4.7453\n",
            "Epoch 7/100\n",
            "\u001b[1m27/27\u001b[0m \u001b[32m━━━━━━━━━━━━━━━━━━━━\u001b[0m\u001b[37m\u001b[0m \u001b[1m1s\u001b[0m 35ms/step - accuracy: 0.1826 - loss: 4.4841\n",
            "Epoch 8/100\n",
            "\u001b[1m27/27\u001b[0m \u001b[32m━━━━━━━━━━━━━━━━━━━━\u001b[0m\u001b[37m\u001b[0m \u001b[1m1s\u001b[0m 22ms/step - accuracy: 0.1761 - loss: 4.4466\n",
            "Epoch 9/100\n",
            "\u001b[1m27/27\u001b[0m \u001b[32m━━━━━━━━━━━━━━━━━━━━\u001b[0m\u001b[37m\u001b[0m \u001b[1m1s\u001b[0m 23ms/step - accuracy: 0.2007 - loss: 4.3203\n",
            "Epoch 10/100\n",
            "\u001b[1m27/27\u001b[0m \u001b[32m━━━━━━━━━━━━━━━━━━━━\u001b[0m\u001b[37m\u001b[0m \u001b[1m1s\u001b[0m 23ms/step - accuracy: 0.2130 - loss: 4.1363\n",
            "Epoch 11/100\n",
            "\u001b[1m27/27\u001b[0m \u001b[32m━━━━━━━━━━━━━━━━━━━━\u001b[0m\u001b[37m\u001b[0m \u001b[1m1s\u001b[0m 22ms/step - accuracy: 0.2677 - loss: 3.8636\n",
            "Epoch 12/100\n",
            "\u001b[1m27/27\u001b[0m \u001b[32m━━━━━━━━━━━━━━━━━━━━\u001b[0m\u001b[37m\u001b[0m \u001b[1m1s\u001b[0m 23ms/step - accuracy: 0.2430 - loss: 3.8168\n",
            "Epoch 13/100\n",
            "\u001b[1m27/27\u001b[0m \u001b[32m━━━━━━━━━━━━━━━━━━━━\u001b[0m\u001b[37m\u001b[0m \u001b[1m1s\u001b[0m 22ms/step - accuracy: 0.2654 - loss: 3.6233\n",
            "Epoch 14/100\n",
            "\u001b[1m27/27\u001b[0m \u001b[32m━━━━━━━━━━━━━━━━━━━━\u001b[0m\u001b[37m\u001b[0m \u001b[1m1s\u001b[0m 23ms/step - accuracy: 0.2681 - loss: 3.4750\n",
            "Epoch 15/100\n",
            "\u001b[1m27/27\u001b[0m \u001b[32m━━━━━━━━━━━━━━━━━━━━\u001b[0m\u001b[37m\u001b[0m \u001b[1m1s\u001b[0m 23ms/step - accuracy: 0.2865 - loss: 3.3673\n",
            "Epoch 16/100\n",
            "\u001b[1m27/27\u001b[0m \u001b[32m━━━━━━━━━━━━━━━━━━━━\u001b[0m\u001b[37m\u001b[0m \u001b[1m1s\u001b[0m 23ms/step - accuracy: 0.3059 - loss: 3.2288\n",
            "Epoch 17/100\n",
            "\u001b[1m27/27\u001b[0m \u001b[32m━━━━━━━━━━━━━━━━━━━━\u001b[0m\u001b[37m\u001b[0m \u001b[1m1s\u001b[0m 23ms/step - accuracy: 0.3239 - loss: 3.1041\n",
            "Epoch 18/100\n",
            "\u001b[1m27/27\u001b[0m \u001b[32m━━━━━━━━━━━━━━━━━━━━\u001b[0m\u001b[37m\u001b[0m \u001b[1m1s\u001b[0m 22ms/step - accuracy: 0.3544 - loss: 2.9478\n",
            "Epoch 19/100\n",
            "\u001b[1m27/27\u001b[0m \u001b[32m━━━━━━━━━━━━━━━━━━━━\u001b[0m\u001b[37m\u001b[0m \u001b[1m1s\u001b[0m 23ms/step - accuracy: 0.3557 - loss: 2.7799\n",
            "Epoch 20/100\n",
            "\u001b[1m27/27\u001b[0m \u001b[32m━━━━━━━━━━━━━━━━━━━━\u001b[0m\u001b[37m\u001b[0m \u001b[1m1s\u001b[0m 22ms/step - accuracy: 0.4028 - loss: 2.6095\n",
            "Epoch 21/100\n",
            "\u001b[1m27/27\u001b[0m \u001b[32m━━━━━━━━━━━━━━━━━━━━\u001b[0m\u001b[37m\u001b[0m \u001b[1m1s\u001b[0m 23ms/step - accuracy: 0.3916 - loss: 2.6168\n",
            "Epoch 22/100\n",
            "\u001b[1m27/27\u001b[0m \u001b[32m━━━━━━━━━━━━━━━━━━━━\u001b[0m\u001b[37m\u001b[0m \u001b[1m1s\u001b[0m 37ms/step - accuracy: 0.4304 - loss: 2.5323\n",
            "Epoch 23/100\n",
            "\u001b[1m27/27\u001b[0m \u001b[32m━━━━━━━━━━━━━━━━━━━━\u001b[0m\u001b[37m\u001b[0m \u001b[1m1s\u001b[0m 45ms/step - accuracy: 0.4604 - loss: 2.3969\n",
            "Epoch 24/100\n",
            "\u001b[1m27/27\u001b[0m \u001b[32m━━━━━━━━━━━━━━━━━━━━\u001b[0m\u001b[37m\u001b[0m \u001b[1m1s\u001b[0m 45ms/step - accuracy: 0.4450 - loss: 2.3697\n",
            "Epoch 25/100\n",
            "\u001b[1m27/27\u001b[0m \u001b[32m━━━━━━━━━━━━━━━━━━━━\u001b[0m\u001b[37m\u001b[0m \u001b[1m1s\u001b[0m 24ms/step - accuracy: 0.5198 - loss: 2.1905\n",
            "Epoch 26/100\n",
            "\u001b[1m27/27\u001b[0m \u001b[32m━━━━━━━━━━━━━━━━━━━━\u001b[0m\u001b[37m\u001b[0m \u001b[1m1s\u001b[0m 22ms/step - accuracy: 0.5633 - loss: 2.0752\n",
            "Epoch 27/100\n",
            "\u001b[1m27/27\u001b[0m \u001b[32m━━━━━━━━━━━━━━━━━━━━\u001b[0m\u001b[37m\u001b[0m \u001b[1m1s\u001b[0m 23ms/step - accuracy: 0.5990 - loss: 1.9864\n",
            "Epoch 28/100\n",
            "\u001b[1m27/27\u001b[0m \u001b[32m━━━━━━━━━━━━━━━━━━━━\u001b[0m\u001b[37m\u001b[0m \u001b[1m1s\u001b[0m 23ms/step - accuracy: 0.6285 - loss: 1.9078\n",
            "Epoch 29/100\n",
            "\u001b[1m27/27\u001b[0m \u001b[32m━━━━━━━━━━━━━━━━━━━━\u001b[0m\u001b[37m\u001b[0m \u001b[1m1s\u001b[0m 23ms/step - accuracy: 0.6290 - loss: 1.8046\n",
            "Epoch 30/100\n",
            "\u001b[1m27/27\u001b[0m \u001b[32m━━━━━━━━━━━━━━━━━━━━\u001b[0m\u001b[37m\u001b[0m \u001b[1m1s\u001b[0m 23ms/step - accuracy: 0.6517 - loss: 1.7499\n",
            "Epoch 31/100\n",
            "\u001b[1m27/27\u001b[0m \u001b[32m━━━━━━━━━━━━━━━━━━━━\u001b[0m\u001b[37m\u001b[0m \u001b[1m1s\u001b[0m 22ms/step - accuracy: 0.6727 - loss: 1.6460\n",
            "Epoch 32/100\n",
            "\u001b[1m27/27\u001b[0m \u001b[32m━━━━━━━━━━━━━━━━━━━━\u001b[0m\u001b[37m\u001b[0m \u001b[1m1s\u001b[0m 23ms/step - accuracy: 0.6497 - loss: 1.6907\n",
            "Epoch 33/100\n",
            "\u001b[1m27/27\u001b[0m \u001b[32m━━━━━━━━━━━━━━━━━━━━\u001b[0m\u001b[37m\u001b[0m \u001b[1m1s\u001b[0m 22ms/step - accuracy: 0.6937 - loss: 1.5447\n",
            "Epoch 34/100\n",
            "\u001b[1m27/27\u001b[0m \u001b[32m━━━━━━━━━━━━━━━━━━━━\u001b[0m\u001b[37m\u001b[0m \u001b[1m1s\u001b[0m 25ms/step - accuracy: 0.6763 - loss: 1.5664\n",
            "Epoch 35/100\n",
            "\u001b[1m27/27\u001b[0m \u001b[32m━━━━━━━━━━━━━━━━━━━━\u001b[0m\u001b[37m\u001b[0m \u001b[1m1s\u001b[0m 25ms/step - accuracy: 0.7142 - loss: 1.4207\n",
            "Epoch 36/100\n",
            "\u001b[1m27/27\u001b[0m \u001b[32m━━━━━━━━━━━━━━━━━━━━\u001b[0m\u001b[37m\u001b[0m \u001b[1m1s\u001b[0m 22ms/step - accuracy: 0.7106 - loss: 1.4177\n",
            "Epoch 37/100\n",
            "\u001b[1m27/27\u001b[0m \u001b[32m━━━━━━━━━━━━━━━━━━━━\u001b[0m\u001b[37m\u001b[0m \u001b[1m1s\u001b[0m 23ms/step - accuracy: 0.7244 - loss: 1.3855\n",
            "Epoch 38/100\n",
            "\u001b[1m27/27\u001b[0m \u001b[32m━━━━━━━━━━━━━━━━━━━━\u001b[0m\u001b[37m\u001b[0m \u001b[1m1s\u001b[0m 25ms/step - accuracy: 0.7251 - loss: 1.3148\n",
            "Epoch 39/100\n",
            "\u001b[1m27/27\u001b[0m \u001b[32m━━━━━━━━━━━━━━━━━━━━\u001b[0m\u001b[37m\u001b[0m \u001b[1m2s\u001b[0m 46ms/step - accuracy: 0.7271 - loss: 1.2977\n",
            "Epoch 40/100\n",
            "\u001b[1m27/27\u001b[0m \u001b[32m━━━━━━━━━━━━━━━━━━━━\u001b[0m\u001b[37m\u001b[0m \u001b[1m1s\u001b[0m 46ms/step - accuracy: 0.7265 - loss: 1.2715\n",
            "Epoch 41/100\n",
            "\u001b[1m27/27\u001b[0m \u001b[32m━━━━━━━━━━━━━━━━━━━━\u001b[0m\u001b[37m\u001b[0m \u001b[1m1s\u001b[0m 27ms/step - accuracy: 0.7413 - loss: 1.1942\n",
            "Epoch 42/100\n",
            "\u001b[1m27/27\u001b[0m \u001b[32m━━━━━━━━━━━━━━━━━━━━\u001b[0m\u001b[37m\u001b[0m \u001b[1m2s\u001b[0m 50ms/step - accuracy: 0.7521 - loss: 1.1500\n",
            "Epoch 43/100\n",
            "\u001b[1m27/27\u001b[0m \u001b[32m━━━━━━━━━━━━━━━━━━━━\u001b[0m\u001b[37m\u001b[0m \u001b[1m1s\u001b[0m 24ms/step - accuracy: 0.7592 - loss: 1.1046\n",
            "Epoch 44/100\n",
            "\u001b[1m27/27\u001b[0m \u001b[32m━━━━━━━━━━━━━━━━━━━━\u001b[0m\u001b[37m\u001b[0m \u001b[1m1s\u001b[0m 23ms/step - accuracy: 0.7427 - loss: 1.1322\n",
            "Epoch 45/100\n",
            "\u001b[1m27/27\u001b[0m \u001b[32m━━━━━━━━━━━━━━━━━━━━\u001b[0m\u001b[37m\u001b[0m \u001b[1m1s\u001b[0m 23ms/step - accuracy: 0.7973 - loss: 0.9822\n",
            "Epoch 46/100\n",
            "\u001b[1m27/27\u001b[0m \u001b[32m━━━━━━━━━━━━━━━━━━━━\u001b[0m\u001b[37m\u001b[0m \u001b[1m1s\u001b[0m 22ms/step - accuracy: 0.7633 - loss: 1.0484\n",
            "Epoch 47/100\n",
            "\u001b[1m27/27\u001b[0m \u001b[32m━━━━━━━━━━━━━━━━━━━━\u001b[0m\u001b[37m\u001b[0m \u001b[1m1s\u001b[0m 24ms/step - accuracy: 0.7639 - loss: 1.0184\n",
            "Epoch 48/100\n",
            "\u001b[1m27/27\u001b[0m \u001b[32m━━━━━━━━━━━━━━━━━━━━\u001b[0m\u001b[37m\u001b[0m \u001b[1m1s\u001b[0m 23ms/step - accuracy: 0.7643 - loss: 1.0223\n",
            "Epoch 49/100\n",
            "\u001b[1m27/27\u001b[0m \u001b[32m━━━━━━━━━━━━━━━━━━━━\u001b[0m\u001b[37m\u001b[0m \u001b[1m1s\u001b[0m 22ms/step - accuracy: 0.7521 - loss: 0.9772\n",
            "Epoch 50/100\n",
            "\u001b[1m27/27\u001b[0m \u001b[32m━━━━━━━━━━━━━━━━━━━━\u001b[0m\u001b[37m\u001b[0m \u001b[1m1s\u001b[0m 24ms/step - accuracy: 0.7776 - loss: 0.8828\n",
            "Epoch 51/100\n",
            "\u001b[1m27/27\u001b[0m \u001b[32m━━━━━━━━━━━━━━━━━━━━\u001b[0m\u001b[37m\u001b[0m \u001b[1m1s\u001b[0m 23ms/step - accuracy: 0.7898 - loss: 0.9003\n",
            "Epoch 52/100\n",
            "\u001b[1m27/27\u001b[0m \u001b[32m━━━━━━━━━━━━━━━━━━━━\u001b[0m\u001b[37m\u001b[0m \u001b[1m1s\u001b[0m 24ms/step - accuracy: 0.7964 - loss: 0.8862\n",
            "Epoch 53/100\n",
            "\u001b[1m27/27\u001b[0m \u001b[32m━━━━━━━━━━━━━━━━━━━━\u001b[0m\u001b[37m\u001b[0m \u001b[1m1s\u001b[0m 26ms/step - accuracy: 0.7900 - loss: 0.9042\n",
            "Epoch 54/100\n",
            "\u001b[1m27/27\u001b[0m \u001b[32m━━━━━━━━━━━━━━━━━━━━\u001b[0m\u001b[37m\u001b[0m \u001b[1m1s\u001b[0m 46ms/step - accuracy: 0.7863 - loss: 0.8625\n",
            "Epoch 55/100\n",
            "\u001b[1m27/27\u001b[0m \u001b[32m━━━━━━━━━━━━━━━━━━━━\u001b[0m\u001b[37m\u001b[0m \u001b[1m1s\u001b[0m 45ms/step - accuracy: 0.7835 - loss: 0.8905\n",
            "Epoch 56/100\n",
            "\u001b[1m27/27\u001b[0m \u001b[32m━━━━━━━━━━━━━━━━━━━━\u001b[0m\u001b[37m\u001b[0m \u001b[1m1s\u001b[0m 34ms/step - accuracy: 0.7721 - loss: 0.9026\n",
            "Epoch 57/100\n",
            "\u001b[1m27/27\u001b[0m \u001b[32m━━━━━━━━━━━━━━━━━━━━\u001b[0m\u001b[37m\u001b[0m \u001b[1m1s\u001b[0m 23ms/step - accuracy: 0.7895 - loss: 0.8453\n",
            "Epoch 58/100\n",
            "\u001b[1m27/27\u001b[0m \u001b[32m━━━━━━━━━━━━━━━━━━━━\u001b[0m\u001b[37m\u001b[0m \u001b[1m1s\u001b[0m 24ms/step - accuracy: 0.7892 - loss: 0.7750\n",
            "Epoch 59/100\n",
            "\u001b[1m27/27\u001b[0m \u001b[32m━━━━━━━━━━━━━━━━━━━━\u001b[0m\u001b[37m\u001b[0m \u001b[1m1s\u001b[0m 23ms/step - accuracy: 0.7875 - loss: 0.7995\n",
            "Epoch 60/100\n",
            "\u001b[1m27/27\u001b[0m \u001b[32m━━━━━━━━━━━━━━━━━━━━\u001b[0m\u001b[37m\u001b[0m \u001b[1m1s\u001b[0m 24ms/step - accuracy: 0.7577 - loss: 0.7932\n",
            "Epoch 61/100\n",
            "\u001b[1m27/27\u001b[0m \u001b[32m━━━━━━━━━━━━━━━━━━━━\u001b[0m\u001b[37m\u001b[0m \u001b[1m1s\u001b[0m 23ms/step - accuracy: 0.7763 - loss: 0.8314\n",
            "Epoch 62/100\n",
            "\u001b[1m27/27\u001b[0m \u001b[32m━━━━━━━━━━━━━━━━━━━━\u001b[0m\u001b[37m\u001b[0m \u001b[1m1s\u001b[0m 23ms/step - accuracy: 0.7816 - loss: 0.7639\n",
            "Epoch 63/100\n",
            "\u001b[1m27/27\u001b[0m \u001b[32m━━━━━━━━━━━━━━━━━━━━\u001b[0m\u001b[37m\u001b[0m \u001b[1m1s\u001b[0m 24ms/step - accuracy: 0.7962 - loss: 0.8002\n",
            "Epoch 64/100\n",
            "\u001b[1m27/27\u001b[0m \u001b[32m━━━━━━━━━━━━━━━━━━━━\u001b[0m\u001b[37m\u001b[0m \u001b[1m1s\u001b[0m 22ms/step - accuracy: 0.7957 - loss: 0.7020\n",
            "Epoch 65/100\n",
            "\u001b[1m27/27\u001b[0m \u001b[32m━━━━━━━━━━━━━━━━━━━━\u001b[0m\u001b[37m\u001b[0m \u001b[1m1s\u001b[0m 23ms/step - accuracy: 0.7639 - loss: 0.8039\n",
            "Epoch 66/100\n",
            "\u001b[1m27/27\u001b[0m \u001b[32m━━━━━━━━━━━━━━━━━━━━\u001b[0m\u001b[37m\u001b[0m \u001b[1m1s\u001b[0m 23ms/step - accuracy: 0.8019 - loss: 0.7219\n",
            "Epoch 67/100\n",
            "\u001b[1m27/27\u001b[0m \u001b[32m━━━━━━━━━━━━━━━━━━━━\u001b[0m\u001b[37m\u001b[0m \u001b[1m1s\u001b[0m 23ms/step - accuracy: 0.8024 - loss: 0.7350\n",
            "Epoch 68/100\n",
            "\u001b[1m27/27\u001b[0m \u001b[32m━━━━━━━━━━━━━━━━━━━━\u001b[0m\u001b[37m\u001b[0m \u001b[1m1s\u001b[0m 23ms/step - accuracy: 0.7948 - loss: 0.7343\n",
            "Epoch 69/100\n",
            "\u001b[1m27/27\u001b[0m \u001b[32m━━━━━━━━━━━━━━━━━━━━\u001b[0m\u001b[37m\u001b[0m \u001b[1m1s\u001b[0m 22ms/step - accuracy: 0.8062 - loss: 0.6991\n",
            "Epoch 70/100\n",
            "\u001b[1m27/27\u001b[0m \u001b[32m━━━━━━━━━━━━━━━━━━━━\u001b[0m\u001b[37m\u001b[0m \u001b[1m1s\u001b[0m 24ms/step - accuracy: 0.7912 - loss: 0.6726\n",
            "Epoch 71/100\n",
            "\u001b[1m27/27\u001b[0m \u001b[32m━━━━━━━━━━━━━━━━━━━━\u001b[0m\u001b[37m\u001b[0m \u001b[1m1s\u001b[0m 45ms/step - accuracy: 0.7749 - loss: 0.6917\n",
            "Epoch 72/100\n",
            "\u001b[1m27/27\u001b[0m \u001b[32m━━━━━━━━━━━━━━━━━━━━\u001b[0m\u001b[37m\u001b[0m \u001b[1m1s\u001b[0m 45ms/step - accuracy: 0.7935 - loss: 0.6647\n",
            "Epoch 73/100\n",
            "\u001b[1m27/27\u001b[0m \u001b[32m━━━━━━━━━━━━━━━━━━━━\u001b[0m\u001b[37m\u001b[0m \u001b[1m1s\u001b[0m 40ms/step - accuracy: 0.7825 - loss: 0.7253\n",
            "Epoch 74/100\n",
            "\u001b[1m27/27\u001b[0m \u001b[32m━━━━━━━━━━━━━━━━━━━━\u001b[0m\u001b[37m\u001b[0m \u001b[1m1s\u001b[0m 24ms/step - accuracy: 0.8082 - loss: 0.6332\n",
            "Epoch 75/100\n",
            "\u001b[1m27/27\u001b[0m \u001b[32m━━━━━━━━━━━━━━━━━━━━\u001b[0m\u001b[37m\u001b[0m \u001b[1m1s\u001b[0m 23ms/step - accuracy: 0.7675 - loss: 0.7295\n",
            "Epoch 76/100\n",
            "\u001b[1m27/27\u001b[0m \u001b[32m━━━━━━━━━━━━━━━━━━━━\u001b[0m\u001b[37m\u001b[0m \u001b[1m1s\u001b[0m 23ms/step - accuracy: 0.7978 - loss: 0.6674\n",
            "Epoch 77/100\n",
            "\u001b[1m27/27\u001b[0m \u001b[32m━━━━━━━━━━━━━━━━━━━━\u001b[0m\u001b[37m\u001b[0m \u001b[1m1s\u001b[0m 24ms/step - accuracy: 0.7712 - loss: 0.7049\n",
            "Epoch 78/100\n",
            "\u001b[1m27/27\u001b[0m \u001b[32m━━━━━━━━━━━━━━━━━━━━\u001b[0m\u001b[37m\u001b[0m \u001b[1m1s\u001b[0m 23ms/step - accuracy: 0.7943 - loss: 0.6577\n",
            "Epoch 79/100\n",
            "\u001b[1m27/27\u001b[0m \u001b[32m━━━━━━━━━━━━━━━━━━━━\u001b[0m\u001b[37m\u001b[0m \u001b[1m1s\u001b[0m 24ms/step - accuracy: 0.8073 - loss: 0.6459\n",
            "Epoch 80/100\n",
            "\u001b[1m27/27\u001b[0m \u001b[32m━━━━━━━━━━━━━━━━━━━━\u001b[0m\u001b[37m\u001b[0m \u001b[1m1s\u001b[0m 23ms/step - accuracy: 0.7930 - loss: 0.6454\n",
            "Epoch 81/100\n",
            "\u001b[1m27/27\u001b[0m \u001b[32m━━━━━━━━━━━━━━━━━━━━\u001b[0m\u001b[37m\u001b[0m \u001b[1m1s\u001b[0m 22ms/step - accuracy: 0.7918 - loss: 0.6446\n",
            "Epoch 82/100\n",
            "\u001b[1m27/27\u001b[0m \u001b[32m━━━━━━━━━━━━━━━━━━━━\u001b[0m\u001b[37m\u001b[0m \u001b[1m1s\u001b[0m 23ms/step - accuracy: 0.7858 - loss: 0.6717\n",
            "Epoch 83/100\n",
            "\u001b[1m27/27\u001b[0m \u001b[32m━━━━━━━━━━━━━━━━━━━━\u001b[0m\u001b[37m\u001b[0m \u001b[1m1s\u001b[0m 22ms/step - accuracy: 0.8024 - loss: 0.6108\n",
            "Epoch 84/100\n",
            "\u001b[1m27/27\u001b[0m \u001b[32m━━━━━━━━━━━━━━━━━━━━\u001b[0m\u001b[37m\u001b[0m \u001b[1m1s\u001b[0m 23ms/step - accuracy: 0.7866 - loss: 0.6575\n",
            "Epoch 85/100\n",
            "\u001b[1m27/27\u001b[0m \u001b[32m━━━━━━━━━━━━━━━━━━━━\u001b[0m\u001b[37m\u001b[0m \u001b[1m1s\u001b[0m 27ms/step - accuracy: 0.8056 - loss: 0.5812\n",
            "Epoch 86/100\n",
            "\u001b[1m27/27\u001b[0m \u001b[32m━━━━━━━━━━━━━━━━━━━━\u001b[0m\u001b[37m\u001b[0m \u001b[1m1s\u001b[0m 26ms/step - accuracy: 0.7763 - loss: 0.6529\n",
            "Epoch 87/100\n",
            "\u001b[1m27/27\u001b[0m \u001b[32m━━━━━━━━━━━━━━━━━━━━\u001b[0m\u001b[37m\u001b[0m \u001b[1m1s\u001b[0m 24ms/step - accuracy: 0.7770 - loss: 0.6945\n",
            "Epoch 88/100\n",
            "\u001b[1m27/27\u001b[0m \u001b[32m━━━━━━━━━━━━━━━━━━━━\u001b[0m\u001b[37m\u001b[0m \u001b[1m1s\u001b[0m 45ms/step - accuracy: 0.7905 - loss: 0.6223\n",
            "Epoch 89/100\n",
            "\u001b[1m27/27\u001b[0m \u001b[32m━━━━━━━━━━━━━━━━━━━━\u001b[0m\u001b[37m\u001b[0m \u001b[1m1s\u001b[0m 46ms/step - accuracy: 0.7777 - loss: 0.6618\n",
            "Epoch 90/100\n",
            "\u001b[1m27/27\u001b[0m \u001b[32m━━━━━━━━━━━━━━━━━━━━\u001b[0m\u001b[37m\u001b[0m \u001b[1m1s\u001b[0m 41ms/step - accuracy: 0.7895 - loss: 0.6470\n",
            "Epoch 91/100\n",
            "\u001b[1m27/27\u001b[0m \u001b[32m━━━━━━━━━━━━━━━━━━━━\u001b[0m\u001b[37m\u001b[0m \u001b[1m1s\u001b[0m 24ms/step - accuracy: 0.7657 - loss: 0.6498\n",
            "Epoch 92/100\n",
            "\u001b[1m27/27\u001b[0m \u001b[32m━━━━━━━━━━━━━━━━━━━━\u001b[0m\u001b[37m\u001b[0m \u001b[1m1s\u001b[0m 23ms/step - accuracy: 0.7908 - loss: 0.6386\n",
            "Epoch 93/100\n",
            "\u001b[1m27/27\u001b[0m \u001b[32m━━━━━━━━━━━━━━━━━━━━\u001b[0m\u001b[37m\u001b[0m \u001b[1m1s\u001b[0m 24ms/step - accuracy: 0.7962 - loss: 0.6273\n",
            "Epoch 94/100\n",
            "\u001b[1m27/27\u001b[0m \u001b[32m━━━━━━━━━━━━━━━━━━━━\u001b[0m\u001b[37m\u001b[0m \u001b[1m1s\u001b[0m 24ms/step - accuracy: 0.7858 - loss: 0.6091\n",
            "Epoch 95/100\n",
            "\u001b[1m27/27\u001b[0m \u001b[32m━━━━━━━━━━━━━━━━━━━━\u001b[0m\u001b[37m\u001b[0m \u001b[1m1s\u001b[0m 24ms/step - accuracy: 0.8029 - loss: 0.6158\n",
            "Epoch 96/100\n",
            "\u001b[1m27/27\u001b[0m \u001b[32m━━━━━━━━━━━━━━━━━━━━\u001b[0m\u001b[37m\u001b[0m \u001b[1m1s\u001b[0m 24ms/step - accuracy: 0.8040 - loss: 0.5971\n",
            "Epoch 97/100\n",
            "\u001b[1m27/27\u001b[0m \u001b[32m━━━━━━━━━━━━━━━━━━━━\u001b[0m\u001b[37m\u001b[0m \u001b[1m1s\u001b[0m 22ms/step - accuracy: 0.7993 - loss: 0.5836\n",
            "Epoch 98/100\n",
            "\u001b[1m27/27\u001b[0m \u001b[32m━━━━━━━━━━━━━━━━━━━━\u001b[0m\u001b[37m\u001b[0m \u001b[1m1s\u001b[0m 23ms/step - accuracy: 0.7818 - loss: 0.6307\n",
            "Epoch 99/100\n",
            "\u001b[1m27/27\u001b[0m \u001b[32m━━━━━━━━━━━━━━━━━━━━\u001b[0m\u001b[37m\u001b[0m \u001b[1m1s\u001b[0m 23ms/step - accuracy: 0.8099 - loss: 0.5592\n",
            "Epoch 100/100\n",
            "\u001b[1m27/27\u001b[0m \u001b[32m━━━━━━━━━━━━━━━━━━━━\u001b[0m\u001b[37m\u001b[0m \u001b[1m1s\u001b[0m 24ms/step - accuracy: 0.8078 - loss: 0.6062\n"
          ]
        },
        {
          "output_type": "execute_result",
          "data": {
            "text/plain": [
              "<keras.src.callbacks.history.History at 0x7f028e7b2660>"
            ]
          },
          "metadata": {},
          "execution_count": 29
        }
      ]
    },
    {
      "cell_type": "code",
      "source": [
        "import numpy as np"
      ],
      "metadata": {
        "id": "AfE1n78zBSIh"
      },
      "execution_count": 30,
      "outputs": []
    },
    {
      "cell_type": "code",
      "source": [
        "import time\n",
        "text = \"He is cooking\"\n",
        "\n",
        "for i in range(10):\n",
        "  #tokenize text\n",
        "  token_text = tokenizer.texts_to_sequences([text])[0]\n",
        "\n",
        "  #pading\n",
        "  padded_token_text = pad_sequences([token_text],maxlen=10,padding='pre')\n",
        "\n",
        "  #prediction\n",
        "  pos = np.argmax(model.predict(padded_token_text))\n",
        "\n",
        "  for word,index in tokenizer.word_index.items():\n",
        "    if index==pos:\n",
        "      text = text+\" \"+word\n",
        "      print(text)\n",
        "      time.sleep(2)\n",
        ""
      ],
      "metadata": {
        "colab": {
          "base_uri": "https://localhost:8080/"
        },
        "id": "KIlvsqnmyruJ",
        "outputId": "e672fa4c-b91f-4a68-fe93-817234fe5265"
      },
      "execution_count": 34,
      "outputs": [
        {
          "output_type": "stream",
          "name": "stdout",
          "text": [
            "\u001b[1m1/1\u001b[0m \u001b[32m━━━━━━━━━━━━━━━━━━━━\u001b[0m\u001b[37m\u001b[0m \u001b[1m0s\u001b[0m 69ms/step\n",
            "He is cooking dinner\n",
            "\u001b[1m1/1\u001b[0m \u001b[32m━━━━━━━━━━━━━━━━━━━━\u001b[0m\u001b[37m\u001b[0m \u001b[1m0s\u001b[0m 33ms/step\n",
            "He is cooking dinner for\n",
            "\u001b[1m1/1\u001b[0m \u001b[32m━━━━━━━━━━━━━━━━━━━━\u001b[0m\u001b[37m\u001b[0m \u001b[1m0s\u001b[0m 33ms/step\n",
            "He is cooking dinner for his\n",
            "\u001b[1m1/1\u001b[0m \u001b[32m━━━━━━━━━━━━━━━━━━━━\u001b[0m\u001b[37m\u001b[0m \u001b[1m0s\u001b[0m 35ms/step\n",
            "He is cooking dinner for his family\n",
            "\u001b[1m1/1\u001b[0m \u001b[32m━━━━━━━━━━━━━━━━━━━━\u001b[0m\u001b[37m\u001b[0m \u001b[1m0s\u001b[0m 36ms/step\n",
            "He is cooking dinner for his family speed\n",
            "\u001b[1m1/1\u001b[0m \u001b[32m━━━━━━━━━━━━━━━━━━━━\u001b[0m\u001b[37m\u001b[0m \u001b[1m0s\u001b[0m 111ms/step\n",
            "He is cooking dinner for his family speed projects\n",
            "\u001b[1m1/1\u001b[0m \u001b[32m━━━━━━━━━━━━━━━━━━━━\u001b[0m\u001b[37m\u001b[0m \u001b[1m0s\u001b[0m 46ms/step\n",
            "He is cooking dinner for his family speed projects projects\n",
            "\u001b[1m1/1\u001b[0m \u001b[32m━━━━━━━━━━━━━━━━━━━━\u001b[0m\u001b[37m\u001b[0m \u001b[1m0s\u001b[0m 35ms/step\n",
            "He is cooking dinner for his family speed projects projects in\n",
            "\u001b[1m1/1\u001b[0m \u001b[32m━━━━━━━━━━━━━━━━━━━━\u001b[0m\u001b[37m\u001b[0m \u001b[1m0s\u001b[0m 36ms/step\n",
            "He is cooking dinner for his family speed projects projects in the\n",
            "\u001b[1m1/1\u001b[0m \u001b[32m━━━━━━━━━━━━━━━━━━━━\u001b[0m\u001b[37m\u001b[0m \u001b[1m0s\u001b[0m 34ms/step\n",
            "He is cooking dinner for his family speed projects projects in the park\n"
          ]
        }
      ]
    },
    {
      "cell_type": "code",
      "source": [],
      "metadata": {
        "id": "XOqgZVTNB8sj"
      },
      "execution_count": null,
      "outputs": []
    }
  ]
}